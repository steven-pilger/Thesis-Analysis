{
 "cells": [
  {
   "cell_type": "code",
   "execution_count": 1,
   "metadata": {},
   "outputs": [
    {
     "name": "stdout",
     "output_type": "stream",
     "text": [
      "/protwis/sites/protwis\n"
     ]
    }
   ],
   "source": [
    "import os, sys\n",
    "PWD = os.getenv('PWD')\n",
    "print(PWD)"
   ]
  },
  {
   "cell_type": "code",
   "execution_count": 2,
   "metadata": {},
   "outputs": [
    {
     "name": "stderr",
     "output_type": "stream",
     "text": [
      "/env/lib/python3.4/site-packages/psycopg2/__init__.py:144: UserWarning: The psycopg2 wheel package will be renamed from release 2.8; in order to keep installing from binary please use \"pip install psycopg2-binary\" instead. For details see: <http://initd.org/psycopg/docs/install.html#binary-install-from-pypi>.\n",
      "  \"\"\")\n"
     ]
    }
   ],
   "source": [
    "os.chdir(PWD)\n",
    "sys.path.insert(0, os.getenv('PWD'))\n",
    "os.environ.setdefault(\"DJANGO_SETTINGS_MODULE\", \"protwis.settings\")\n",
    "import django\n",
    "django.setup()"
   ]
  },
  {
   "cell_type": "code",
   "execution_count": 34,
   "metadata": {},
   "outputs": [
    {
     "name": "stdout",
     "output_type": "stream",
     "text": [
      "For 7x60 a ResidueGenericNumberEquivalent matching query does not exist. \n",
      "For 3x59 a ResidueGenericNumberEquivalent matching query does not exist. \n",
      "For 3x60 a ResidueGenericNumberEquivalent matching query does not exist. \n",
      "[<ResidueGenericNumberEquivalent: 5x61>, <ResidueGenericNumberEquivalent: 6x41>, <ResidueGenericNumberEquivalent: 4x39>, <ResidueGenericNumberEquivalent: 3x54>, <ResidueGenericNumberEquivalent: 2x46>, <ResidueGenericNumberEquivalent: 8x48>, <ResidueGenericNumberEquivalent: 3x58>, <ResidueGenericNumberEquivalent: 2x50>, <ResidueGenericNumberEquivalent: 6x37>, <ResidueGenericNumberEquivalent: 5x64>, <ResidueGenericNumberEquivalent: 3x53>, <ResidueGenericNumberEquivalent: 6x45>, <ResidueGenericNumberEquivalent: 5x57>, <ResidueGenericNumberEquivalent: 3x57>, <ResidueGenericNumberEquivalent: 7x56>, <ResidueGenericNumberEquivalent: 6x42>, <ResidueGenericNumberEquivalent: 6x48>, <ResidueGenericNumberEquivalent: 4x40>, <ResidueGenericNumberEquivalent: 8x49>, <ResidueGenericNumberEquivalent: 8x47>, <ResidueGenericNumberEquivalent: 7x57>, <ResidueGenericNumberEquivalent: 4x38>, <ResidueGenericNumberEquivalent: 4x41>, <ResidueGenericNumberEquivalent: 5x65>, <ResidueGenericNumberEquivalent: 6x40>]\n"
     ]
    }
   ],
   "source": [
    "    import time\n",
    "    t1 = time.time()\n",
    "\n",
    "    import re\n",
    "    from itertools import chain\n",
    "\n",
    "    from protein.models import Protein\n",
    "    from protein.models import ProteinSegment\n",
    "    from residue.models import ResidueGenericNumberEquivalent\n",
    "    from seqsign.sequence_signature import SignatureMatch\n",
    "    from seqsign.sequence_signature import SequenceSignature\n",
    "    from common.definitions import AMINO_ACIDS, AMINO_ACID_GROUPS, AMINO_ACID_GROUP_NAMES, AMINO_ACID_GROUP_PROPERTIES\n",
    "\n",
    "    from django.core.exceptions import ObjectDoesNotExist\n",
    "\n",
    "    # example data\n",
    "    pos_set = [\n",
    "        \"calcr_human\",\n",
    "        \"calrl_human\",\n",
    "        \"glp1r_human\",\n",
    "        \"g1sgd4_rabit\"\n",
    "    ]\n",
    "    segments = []\n",
    "#     segments = list(ProteinSegment.objects.filter(slug='TM3'))\n",
    "    seg_list = ['5x61', '6x41', '4x39', '3x54', '2x46', '8x48', '3x58', '2x50', '6x37', '5x64', '3x53', '6x45', '5x57', '3x57', '7x56', '6x42', '6x48', '7x60', '3x59', '4x40', '8x49', '8x47', '7x57', '4x38', '4x41', '5x65', '6x40', '3x60']\n",
    "    for s in seg_list:\n",
    "        try:\n",
    "            gen_object = ResidueGenericNumberEquivalent.objects.filter(\n",
    "                label=s,\n",
    "#                 scheme__slug__in=['gpcrdba', 'gpcrdbb', 'gpcrdbc', 'gpcrdbf']\n",
    "                scheme__slug__in=['gpcrdba']\n",
    "            ).get()\n",
    "            segments.append(gen_object)\n",
    "        except ObjectDoesNotExist as e:\n",
    "            print('For {} a {} '.format(s, e))\n",
    "            continue\n",
    "\n",
    "    print(segments)\n",
    "    ignore_in_alignment = {'3.59x59': ['glp1r_human', None], '3.53x53': ['g1sgd4_rabit', 'calrl_human', None], '5.57x57': ['g1sgd4_rabit', 'calcr_human', None], '8.49x49': ['glp1r_human', 'calcr_human', 'calrl_human', None], '4.37x38': ['glp1r_human', None], '8.47x47': ['glp1r_human', 'calcr_human', None], '3.60x60': ['glp1r_human', 'g1sgd4_rabit', 'calcr_human', None], '5.65x65': ['glp1r_human', 'g1sgd4_rabit', None], '7.60x60': ['glp1r_human', None], '4.40x41': ['glp1r_human', None], '7.56x56': ['glp1r_human', 'calcr_human', 'calrl_human', None], '4.39x40': ['glp1r_human', None], '6.41x41': ['calcr_human', 'calrl_human', None], '7.57x57': ['glp1r_human', 'calcr_human', 'calrl_human', None], '6.48x48': ['glp1r_human', 'calcr_human', 'calrl_human', None], '6.40x40': ['g1sgd4_rabit', 'glp1r_human', 'calcr_human', None], '6.37x37': ['g1sgd4_rabit', 'calcr_human', None], '6.42x42': ['glp1r_human', 'calrl_human', None]}\n",
    "\n",
    "\n",
    "    # get pos objects\n",
    "    pos_set = Protein.objects.filter(entry_name__in=pos_set).select_related('residue_numbering_scheme', 'species')\n",
    "\n",
    "    # Calculate Sequence Signature\n",
    "    signature = SequenceSignature()\n",
    "    signature.setup_alignments(segments, pos_set, ignore_in_alignment=ignore_in_alignment)\n",
    "    signature.calculate_signature_onesided()\n"
   ]
  },
  {
   "cell_type": "code",
   "execution_count": 35,
   "metadata": {},
   "outputs": [
    {
     "data": {
      "text/plain": [
       "OrderedDict([('Custom',\n",
       "              [['HA', 'Hydrophobic aliphatic', 100, 10, '3-4', 'HA_3-4'],\n",
       "               ['HR', 'Hydrophobic aromatic', 100, 10, '5', 'HR_5'],\n",
       "               ['L', 'Hydrophobic aliphatic [L]', 100, 10, '', 'L_'],\n",
       "               ['HA', 'Hydrophobic aliphatic', 100, 10, '3', 'HA_3'],\n",
       "               ['-', 'Gap (no amino acid)', 75, 8, '', '-'],\n",
       "               ['E', 'Charged negative [E]', 50, 7, '4', 'E_4'],\n",
       "               ['-', 'Gap (no amino acid)', 50, 7, '', '-'],\n",
       "               ['-', 'Gap (no amino acid)', 50, 7, '', '-'],\n",
       "               ['HY', 'Hydrophobic', 100, 10, 'any', 'HY_any'],\n",
       "               ['HA', 'Hydrophobic aliphatic', 50, 7, '2-3', 'HA_2-3'],\n",
       "               ['HA', 'Hydrophobic aliphatic', 100, 10, '2-3', 'HA_2-3'],\n",
       "               ['HA', 'Hydrophobic aliphatic', 100, 10, '2-3', 'HA_2-3'],\n",
       "               ['T', 'Hydrogen bonding [T]', 50, 7, '', 'T_'],\n",
       "               ['L', 'Hydrophobic aliphatic [L]', 100, 10, '', 'L_'],\n",
       "               ['HA', 'Hydrophobic aliphatic', 100, 10, '2-3', 'HA_2-3'],\n",
       "               ['P', 'α-Helix kink [P]', 100, 10, '2', 'P_2'],\n",
       "               ['G', 'α-Helix flexibility [G]', 100, 10, '0', 'G_0'],\n",
       "               ['F', 'Hydrophobic aromatic [F]', 50, 7, '', 'F_'],\n",
       "               ['HY', 'Hydrophobic', 75, 8, 'any', 'HY_any'],\n",
       "               ['N', 'Hydrogen bonding [N]', 50, 7, '', 'N_'],\n",
       "               ['N', 'Hydrogen bonding [N]', 75, 8, '', 'N_'],\n",
       "               ['E', 'Charged negative [E]', 25, 6, '4', 'E_4']])])"
      ]
     },
     "execution_count": 35,
     "metadata": {},
     "output_type": "execute_result"
    }
   ],
   "source": [
    "signature_data = signature.prepare_display_data_onesided()\n",
    "signature_data['a_pos'].feat_consensus"
   ]
  },
  {
   "cell_type": "code",
   "execution_count": null,
   "metadata": {},
   "outputs": [],
   "source": []
  }
 ],
 "metadata": {
  "kernelspec": {
   "display_name": "Python 3",
   "language": "python",
   "name": "python3"
  },
  "language_info": {
   "codemirror_mode": {
    "name": "ipython",
    "version": 3
   },
   "file_extension": ".py",
   "mimetype": "text/x-python",
   "name": "python",
   "nbconvert_exporter": "python",
   "pygments_lexer": "ipython3",
   "version": "3.4.3"
  }
 },
 "nbformat": 4,
 "nbformat_minor": 2
}
