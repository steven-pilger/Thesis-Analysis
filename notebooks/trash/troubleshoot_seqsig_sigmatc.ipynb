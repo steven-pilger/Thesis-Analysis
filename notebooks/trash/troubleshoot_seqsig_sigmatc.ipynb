{
 "cells": [
  {
   "cell_type": "code",
   "execution_count": 1,
   "metadata": {},
   "outputs": [],
   "source": [
    "from helpers.setup import setup_django"
   ]
  },
  {
   "cell_type": "code",
   "execution_count": 2,
   "metadata": {},
   "outputs": [],
   "source": [
    "setup_django()"
   ]
  },
  {
   "cell_type": "code",
   "execution_count": 3,
   "metadata": {},
   "outputs": [],
   "source": [
    "import time\n",
    "import datetime\n",
    "import os\n",
    "import json\n",
    "from collections import Counter\n",
    "\n",
    "import pandas as pd\n",
    "\n",
    "from django.conf import settings\n",
    "from django.db import connection\n",
    "from django.db.models import F, Q, Prefetch\n",
    "from django.contrib.postgres.aggregates import ArrayAgg\n",
    "from django.core.exceptions import ObjectDoesNotExist\n",
    "\n",
    "from structure.models import Structure\n",
    "from residue.models import Residue\n",
    "from contactnetwork.models import InteractingResiduePair, Interaction\n",
    "from signprot.models import SignprotStructure, SignprotBarcode, SignprotInteractions, SignprotComplex\n",
    "from signprot.views import SequenceSignature, SignatureMatch\n",
    "from protein.models import Protein, ProteinConformation, ProteinSegment\n",
    "from residue.models import ResidueGenericNumberEquivalent\n",
    "\n",
    "from signprot.interactions import get_class_slug, get_generic_numbers, get_signature_features, group_signature_features, prepare_signature_match"
   ]
  },
  {
   "cell_type": "code",
   "execution_count": 4,
   "metadata": {},
   "outputs": [],
   "source": [
    "request = {'ignore': ['{\"2x39\":[\"6d9h\",null],\"2x40\":[\"6n4b\",\"6osa\",\"6qno\",null],\"34x53\":[\"6osa\",\"6d9h\",null],\"34x54\":[\"6n4b\",\"6d9h\",null],\"34x55\":[\"6n4b\",\"6d9h\",null],\"34x50\":[\"6osa\",null],\"6x26\":[\"6qno\",\"6d9h\",null],\"6x30\":[\"6n4b\",\"6qno\",\"6d9h\",null],\"6x32\":[\"6osa\",\"6d9h\",null],\"5x69\":[\"6n4b\",\"6osa\",\"6qno\",null],\"6x36\":[\"6n4b\",\"6qno\",\"6d9h\",null],\"6x40\":[\"6n4b\",\"6osa\",\"6d9h\",null],\"6x37\":[\"6n4b\",\"6qno\",null],\"5x61\":[\"6n4b\",\"6osa\",null],\"5x71\":[\"6n4b\",\"6osa\",null],\"5x72\":[\"6osa\",null],\"5x75\":[\"6osa\",null],\"6x23\":[\"6osa\",null],\"8x48\":[\"6n4b\",\"6osa\",\"6d9h\",null],\"8x52\":[\"6n4b\",\"6qno\",\"6d9h\",null],\"5x65\":[\"6n4b\",null],\"7x56\":[\"6n4b\",\"6qno\",null],\"8x49\":[\"6n4b\",\"6qno\",null]}'], 'seg[]': ['2x36', '2x39', '2x40', '34x50', '34x51', '34x53', '34x54', '34x55', '3x50', '3x53', '3x54', '5x61', '5x65', '5x68', '5x69', '5x71', '5x72', '5x75', '6x22', '6x23', '6x25', '6x26', '6x29', '6x30', '6x32', '6x33', '6x36', '6x37', '6x40', '7x56', '8x47', '8x48', '8x49', '8x52'], 'csrfmiddlewaretoken': ['zPkvsxdu24a1fEwvV8EQOnjM8VCzlNbG6tlesobatURZ3dmlTyEgcFjm5hAsb39F'], 'pos[]': ['20804', '20981', '21036', '21038'], 'selectedreceptorclasses[]': ['Class A (Rhodopsin)', 'Class A (Rhodopsin)', 'Class A (Rhodopsin)', 'Class A (Rhodopsin)']}"
   ]
  },
  {
   "cell_type": "code",
   "execution_count": 5,
   "metadata": {},
   "outputs": [],
   "source": [
    "# Entry Names\n",
    "prot_confs = request[\"pos[]\"]\n",
    "complex_objs = SignprotComplex.objects.prefetch_related('structure__protein_conformation__protein').filter(structure__protein_conformation__in=prot_confs)\n",
    "entry_names = [complex_obj.structure.protein_conformation.protein.entry_name for complex_obj in complex_objs]\n",
    "pos_set_in = entry_names\n",
    "\n",
    "# Ignore in Alignment\n",
    "ignore_in_alignment = json.loads(request[\"ignore\"][0])\n",
    "\n",
    "# Segments\n",
    "segments = []\n",
    "segment_raw = request[\"seg[]\"]\n",
    "selected_receptor_classes = request[\"selectedreceptorclasses[]\"]\n",
    "most_common_class = Counter(selected_receptor_classes).most_common(1)\n",
    "slug_ending = get_class_slug(most_common_class)\n",
    "\n",
    "for s in segment_raw:\n",
    "    try:\n",
    "        gen_object = ResidueGenericNumberEquivalent.objects.filter(\n",
    "            label=s, scheme__slug__in=['gpcrdb' + slug_ending]\n",
    "        ).get()\n",
    "        segments.append(gen_object)\n",
    "    except ObjectDoesNotExist as e:\n",
    "        print(\"For {} a {} \".format(s, e))\n",
    "        continue"
   ]
  },
  {
   "cell_type": "code",
   "execution_count": 6,
   "metadata": {},
   "outputs": [],
   "source": [
    "# get pos objects\n",
    "pos_set = Protein.objects.filter(entry_name__in=pos_set_in).select_related('residue_numbering_scheme', 'species')\n",
    "\n",
    "# Calculate Sequence Signature\n",
    "signature = SequenceSignature()\n",
    "\n",
    "signature.setup_alignments_signprot(segments, pos_set, ignore_in_alignment=ignore_in_alignment)\n",
    "signature.calculate_signature_onesided()\n",
    "# preprocess data for return\n",
    "signature_data = signature.prepare_display_data_onesided()\n",
    "\n",
    "# FEATURES AND REGIONS\n",
    "feats = [feature for feature in signature_data['a_pos'].features_combo]\n",
    "\n",
    "# GET GENERIC NUMBERS\n",
    "generic_numbers = get_generic_numbers(signature_data)\n",
    "\n",
    "# FEATURE FREQUENCIES\n",
    "signature_features = get_signature_features(signature_data, generic_numbers, feats)\n",
    "grouped_features = group_signature_features(signature_features)\n",
    "\n",
    "signature_data = signature.prepare_session_data()"
   ]
  },
  {
   "cell_type": "code",
   "execution_count": 7,
   "metadata": {},
   "outputs": [],
   "source": [
    "# table of frequencies of features across sequences\n",
    "# pd.DataFrame(signature_data['diff_matrix']['Custom'])"
   ]
  },
  {
   "cell_type": "code",
   "execution_count": 8,
   "metadata": {},
   "outputs": [
    {
     "name": "stdout",
     "output_type": "stream",
     "text": [
      "[('gpcrdba', 'GPCRdb (Class A)', 'BW')]\n",
      "Time elapsed for 6osa:  0.005104541778564453\n",
      "Time elapsed for 6n4b:  0.006355762481689453\n",
      "Time elapsed for 6d9h:  0.00502467155456543\n",
      "Time elapsed for 6qno:  0.004848003387451172\n",
      "Total time:  0.0407869815826416\n"
     ]
    }
   ],
   "source": [
    "ss_pos = entry_names\n",
    "\n",
    "pos_set = Protein.objects.filter(entry_name__in=ss_pos).select_related('residue_numbering_scheme', 'species')\n",
    "pos_set = [protein for protein in pos_set]\n",
    "pfam = [protein.family.slug[:3] for protein in pos_set]\n",
    "\n",
    "signature_match = SignatureMatch(\n",
    "    signature_data['common_positions'],\n",
    "    signature_data['numbering_schemes'],\n",
    "    signature_data['common_segments'],\n",
    "    signature_data['diff_matrix'],\n",
    "    pos_set,\n",
    "    # pos_set,\n",
    "    cutoff = 0,\n",
    "    signprot=True\n",
    ")\n",
    "\n",
    "maj_pfam = Counter(pfam).most_common()[0][0]\n",
    "# signature_match.score_protein_class(maj_pfam)\n",
    "# request.session['signature_match'] = signature_match\n",
    "\n",
    "signature_match = {\n",
    "    'scores': signature_match.protein_report,\n",
    "    'scores_pos': signature_match.scores_pos,\n",
    "    # 'scores_neg': signature_match.scores_neg,\n",
    "    'protein_signatures': signature_match.protein_signatures,\n",
    "    'signatures_pos': signature_match.signatures_pos,\n",
    "    # 'signatures_neg': signature_match.signatures_neg,\n",
    "    'signature_filtered': signature_match.signature_consensus,\n",
    "    'relevant_gn': signature_match.relevant_gn,\n",
    "    'relevant_segments': signature_match.relevant_segments,\n",
    "    'numbering_schemes': signature_match.schemes,\n",
    "}"
   ]
  },
  {
   "cell_type": "code",
   "execution_count": 9,
   "metadata": {},
   "outputs": [
    {
     "data": {
      "text/plain": [
       "dict_keys(['relevant_gn', 'relevant_segments', 'scores_pos', 'signature_filtered', 'scores', 'numbering_schemes', 'protein_signatures', 'signatures_pos'])"
      ]
     },
     "execution_count": 9,
     "metadata": {},
     "output_type": "execute_result"
    }
   ],
   "source": [
    "signature_match.keys()"
   ]
  },
  {
   "cell_type": "code",
   "execution_count": 10,
   "metadata": {},
   "outputs": [
    {
     "data": {
      "text/plain": [
       "OrderedDict([(<ProteinConformation: 6osa (intermediate)>, (11.25, 75.0)),\n",
       "             (<ProteinConformation: 6d9h (active)>,\n",
       "              (10.25, 68.33333333333333)),\n",
       "             (<ProteinConformation: 6n4b (active)>, (9.75, 65.0)),\n",
       "             (<ProteinConformation: 6qno (active)>, (9.0, 60.0))])"
      ]
     },
     "execution_count": 10,
     "metadata": {},
     "output_type": "execute_result"
    }
   ],
   "source": [
    "signature_match['scores_pos']\n",
    "# while 'scores' contains data for the proteins in class"
   ]
  },
  {
   "cell_type": "code",
   "execution_count": null,
   "metadata": {},
   "outputs": [],
   "source": []
  }
 ],
 "metadata": {
  "kernelspec": {
   "display_name": "Python 3",
   "language": "python",
   "name": "python3"
  },
  "language_info": {
   "codemirror_mode": {
    "name": "ipython",
    "version": 3
   },
   "file_extension": ".py",
   "mimetype": "text/x-python",
   "name": "python",
   "nbconvert_exporter": "python",
   "pygments_lexer": "ipython3",
   "version": "3.4.3"
  }
 },
 "nbformat": 4,
 "nbformat_minor": 2
}
