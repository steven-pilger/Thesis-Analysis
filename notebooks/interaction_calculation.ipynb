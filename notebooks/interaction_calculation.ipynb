{
 "cells": [
  {
   "cell_type": "code",
   "execution_count": 1,
   "metadata": {},
   "outputs": [],
   "source": [
    "from helpers.setup import setup_django"
   ]
  },
  {
   "cell_type": "code",
   "execution_count": 2,
   "metadata": {},
   "outputs": [],
   "source": [
    "setup_django()"
   ]
  },
  {
   "cell_type": "code",
   "execution_count": 3,
   "metadata": {},
   "outputs": [],
   "source": [
    "import pandas as pd\n",
    "import pypandoc\n",
    "\n",
    "from django.db.models import F, Q, Prefetch\n",
    "\n",
    "from signprot.models import SignprotComplex\n",
    "from protein.models import Protein, ProteinConformation\n",
    "\n",
    "from Bio.PDB import Selection, PDBParser\n",
    "from Bio.PDB.NeighborSearch import NeighborSearch\n",
    "\n",
    "from contactnetwork.interaction import *\n",
    "from contactnetwork.pdb import *\n",
    "from contactnetwork.models import *\n",
    "from io import StringIO\n",
    "\n",
    "from protein.models import ProteinConformation\n",
    "\n",
    "from structure.models import Structure\n",
    "\n",
    "from signprot.models import SignprotComplex\n",
    "\n",
    "import copy\n"
   ]
  },
  {
   "cell_type": "markdown",
   "metadata": {},
   "source": [
    "# Reverse Lookup of Residues that belong to a ProteinConformation"
   ]
  },
  {
   "cell_type": "code",
   "execution_count": 4,
   "metadata": {},
   "outputs": [
    {
     "data": {
      "text/plain": [
       "<QuerySet [<Residue: M1>, <Residue: G2>, <Residue: C3>, <Residue: T4>, <Residue: L5>, <Residue: S6>, <Residue: A7>, <Residue: E8>, <Residue: D9>, <Residue: K10>, <Residue: A11>, <Residue: A12>, <Residue: V13>, <Residue: E14>, <Residue: R15>, <Residue: S16>, <Residue: K17>, <Residue: M18>, <Residue: I19>, <Residue: D20>, '...(remaining elements truncated)...']>"
      ]
     },
     "execution_count": 4,
     "metadata": {},
     "output_type": "execute_result"
    }
   ],
   "source": [
    "ProteinConformation.objects.get(protein__entry_name=\"6cmo_a\").residue_set.all()"
   ]
  },
  {
   "cell_type": "markdown",
   "metadata": {},
   "source": [
    "# Compute Interactions Prep"
   ]
  },
  {
   "cell_type": "code",
   "execution_count": 7,
   "metadata": {},
   "outputs": [],
   "source": [
    "pdb_name='6CMO'\n",
    "\n",
    "do_distances = True\n",
    "do_interactions = True\n",
    "do_complexes = True\n",
    "distances = []\n",
    "classified = []\n",
    "classified_complex = []\n",
    "\n",
    "# Ensure that the PDB name is lowercase\n",
    "pdb_name = pdb_name.lower()\n",
    "\n",
    "# Get the pdb structure\n",
    "struc = Structure.objects.get(protein_conformation__protein__entry_name=pdb_name)\n",
    "pdb_io = StringIO(struc.pdb_data.pdb)\n",
    "# Get the preferred chain\n",
    "preferred_chain = struc.preferred_chain.split(',')[0]\n",
    "\n",
    "# Get the Biopython structure for the PDB\n",
    "s = PDBParser(PERMISSIVE=True, QUIET=True).get_structure('ref', pdb_io)[0]\n",
    "#s = pdb_get_structure(pdb_name)[0]\n",
    "chain = s[preferred_chain]\n",
    "#return classified, distances\n",
    "\n",
    "# remove residues without GN and only those matching receptor.\n",
    "residues = struc.protein_conformation.residue_set.exclude(generic_number=None).all().prefetch_related('generic_number')\n",
    "dbres = {}\n",
    "dblabel = {}\n",
    "for r in residues:\n",
    "    dbres[r.sequence_number] = r\n",
    "    dblabel[r.sequence_number] = r.generic_number.label\n",
    "ids_to_remove = []\n",
    "for res in chain:\n",
    "    if not res.id[1] in dbres.keys() and res.get_resname() != \"HOH\":\n",
    "        ids_to_remove.append(res.id)\n",
    "for i in ids_to_remove:\n",
    "    chain.detach_child(i)"
   ]
  },
  {
   "cell_type": "code",
   "execution_count": 8,
   "metadata": {},
   "outputs": [],
   "source": [
    "complex = SignprotComplex.objects.get(structure=struc)\n",
    "\n",
    "# Get all GPCR residue atoms based on preferred chain\n",
    "gpcr_atom_list = [ atom for residue in Selection.unfold_entities(s[preferred_chain], 'R') if is_aa(residue) \\\n",
    "                for atom in residue.get_atoms()]\n",
    "\n",
    "# Get all residue atoms from the coupled protein (e.g. G-protein)\n",
    "# NOW: select alpha subnit protein chain using complex model\n",
    "sign_atom_list = [ atom for residue in Selection.unfold_entities(s[complex.alpha], 'R') if is_aa(residue) \\\n",
    "                    for atom in residue.get_atoms()]\n",
    "\n",
    "ns_gpcr = NeighborSearch(gpcr_atom_list)\n",
    "ns_sign = NeighborSearch(sign_atom_list)\n",
    "\n",
    "# For each GPCR atom perform the neighbor search on the signaling protein\n",
    "all_neighbors = {(gpcr_atom.parent, match_res) for gpcr_atom in gpcr_atom_list\n",
    "                for match_res in ns_sign.search(gpcr_atom.coord, 4.5, \"R\")}\n",
    "\n",
    "# For each pair of interacting residues, determine the type of interaction\n",
    "residues_sign = ProteinConformation.objects.get(protein__entry_name=pdb_name+\"_\"+complex.alpha.lower()).residue_set.exclude(generic_number=None).all().prefetch_related('generic_number')\n",
    "\n",
    "# grab labels from sign protein\n",
    "dbres_sign = {}\n",
    "dblabel_sign = {}\n",
    "for r in residues_sign:\n",
    "    dbres_sign[r.sequence_number] = r\n",
    "    dblabel_sign[r.sequence_number] = r.generic_number.label\n",
    "\n",
    "# Find interactions\n",
    "interactions = [InteractingPair(res_pair[0], res_pair[1], dbres[res_pair[0].id[1]], dbres_sign[res_pair[1].id[1]], struc) for res_pair in all_neighbors if res_pair[0].id[1] in dbres and res_pair[1].id[1] in dbres_sign ]\n",
    "\n",
    "# Filter unclassified interactions\n",
    "classified_complex = [interaction for interaction in interactions if len(interaction.get_interactions()) > 0]\n",
    "\n",
    "# Convert to dictionary for water calculations\n",
    "interaction_pairs = {}\n",
    "for pair in classified_complex:\n",
    "    res_1 = pair.get_residue_1()\n",
    "    res_2 = pair.get_residue_2()\n",
    "    key =  res_1.get_parent().get_id()+str(res_1.get_id()[1]) + \"_\" + res_2.get_parent().get_id()+str(res_2.get_id()[1])\n",
    "    interaction_pairs[key] = pair"
   ]
  },
  {
   "cell_type": "code",
   "execution_count": 20,
   "metadata": {},
   "outputs": [
    {
     "data": {
      "text/plain": [
       "[<contactnetwork.interaction.HydrophobicInteraction at 0x7f9d3c357ef0>,\n",
       " <contactnetwork.interaction.HydrophobicInteraction at 0x7f9d3c357780>,\n",
       " <contactnetwork.interaction.VanDerWaalsInteraction at 0x7f9d3c357cf8>]"
      ]
     },
     "execution_count": 20,
     "metadata": {},
     "output_type": "execute_result"
    }
   ],
   "source": [
    "interactions[7].get_interactions()"
   ]
  }
 ],
 "metadata": {
  "kernelspec": {
   "display_name": "Python 3",
   "language": "python",
   "name": "python3"
  },
  "language_info": {
   "codemirror_mode": {
    "name": "ipython",
    "version": 3
   },
   "file_extension": ".py",
   "mimetype": "text/x-python",
   "name": "python",
   "nbconvert_exporter": "python",
   "pygments_lexer": "ipython3",
   "version": "3.4.3"
  }
 },
 "nbformat": 4,
 "nbformat_minor": 2
}
