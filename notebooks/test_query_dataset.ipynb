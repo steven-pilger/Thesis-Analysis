{
 "cells": [
  {
   "cell_type": "code",
   "execution_count": 1,
   "metadata": {},
   "outputs": [],
   "source": [
    "from helpers.setup import setup_django"
   ]
  },
  {
   "cell_type": "code",
   "execution_count": 2,
   "metadata": {},
   "outputs": [],
   "source": [
    "setup_django()"
   ]
  },
  {
   "cell_type": "code",
   "execution_count": 62,
   "metadata": {},
   "outputs": [],
   "source": [
    "import time\n",
    "import datetime\n",
    "import os\n",
    "import json\n",
    "from collections import Counter\n",
    "\n",
    "import pandas as pd\n",
    "\n",
    "from django.conf import settings\n",
    "from django.db import connection\n",
    "from django.db.models import F, Q, Prefetch\n",
    "from django.contrib.postgres.aggregates import ArrayAgg\n",
    "from django.core.exceptions import ObjectDoesNotExist\n",
    "\n",
    "from structure.models import Structure\n",
    "from residue.models import Residue\n",
    "from contactnetwork.models import InteractingResiduePair, Interaction\n",
    "from signprot.models import SignprotStructure, SignprotBarcode, SignprotInteractions, SignprotComplex\n",
    "from signprot.views import SequenceSignature, SignatureMatch\n",
    "from protein.models import Protein, ProteinConformation, ProteinSegment\n",
    "from residue.models import ResidueGenericNumberEquivalent\n",
    "\n",
    "from signprot.interactions import get_class_slug, get_generic_numbers, get_signature_features, group_signature_features, prepare_signature_match"
   ]
  },
  {
   "cell_type": "code",
   "execution_count": 4,
   "metadata": {},
   "outputs": [
    {
     "name": "stdout",
     "output_type": "stream",
     "text": [
      "532\n",
      "0\n"
     ]
    }
   ],
   "source": [
    "print(\n",
    "    InteractingResiduePair.objects.exclude(\n",
    "    res1__protein_conformation=F('res2__protein_conformation')\n",
    ").count()\n",
    ")\n",
    "\n",
    "print(\n",
    "InteractingResiduePair.objects.exclude(\n",
    "    Q(res1__protein_segment__proteinfamily='GPCR') | Q(res2__protein_segment__proteinfamily='GPCR')\n",
    ").count()\n",
    ")"
   ]
  },
  {
   "cell_type": "code",
   "execution_count": 5,
   "metadata": {},
   "outputs": [
    {
     "name": "stdout",
     "output_type": "stream",
     "text": [
      "2210\n"
     ]
    },
    {
     "data": {
      "text/plain": [
       "0"
      ]
     },
     "execution_count": 5,
     "metadata": {},
     "output_type": "execute_result"
    }
   ],
   "source": [
    "# what albert suggested\n",
    "\n",
    "# get all protein ids for alpha subunits\n",
    "alpha_prot = SignprotComplex.objects.values_list('protein', flat=True).distinct()\n",
    "# get all associated protein conformations\n",
    "alpha_prot_conf = ProteinConformation.objects.filter(protein__in=alpha_prot).values_list('id', flat=True)\n",
    "\n",
    "# get all associated residues\n",
    "alpha_prot_residues = Residue.objects.filter(\n",
    "    protein_conformation__in=alpha_prot_conf\n",
    ").values_list('id', flat=True)\n",
    "\n",
    "# How many residues do I have for alpha subunits?\n",
    "print(alpha_prot_residues.count())\n",
    "\n",
    "# Any of these residues a member in any interacting residue pair, either as residue1 or as residue2?\n",
    "InteractingResiduePair.objects.filter(\n",
    "    Q(res1__in=alpha_prot_residues) | Q(res2__in=alpha_prot_residues)\n",
    ").count()"
   ]
  },
  {
   "cell_type": "code",
   "execution_count": 6,
   "metadata": {},
   "outputs": [
    {
     "name": "stdout",
     "output_type": "stream",
     "text": [
      "7162\n"
     ]
    },
    {
     "data": {
      "text/plain": [
       "5035"
      ]
     },
     "execution_count": 6,
     "metadata": {},
     "output_type": "execute_result"
    }
   ],
   "source": [
    "# incorrect receptor entry names - the ones without '_a\n",
    "complex_names = SignprotComplex.objects.values_list('structure__protein_conformation__protein__entry_name', flat=True)\n",
    "# protein conformations for those\n",
    "prot_conf = ProteinConformation.objects.filter(protein__entry_name__in=complex_names).values_list('id', flat=True)\n",
    "\n",
    "# getting all the receptor residues for those protein conformations\n",
    "prot_residues = Residue.objects.filter(\n",
    "    protein_conformation__in=prot_conf\n",
    ").values_list('id', flat=True)\n",
    "\n",
    "# how many receptor residues do I have\n",
    "print(prot_residues.count())\n",
    "\n",
    "# Any of these residues a member in any interacting residue pair, either as residue1 or as residue2?\n",
    "InteractingResiduePair.objects.filter(\n",
    "    Q(res1__in=prot_residues) | Q(res2__in=prot_residues)\n",
    ").count()"
   ]
  },
  {
   "cell_type": "code",
   "execution_count": 7,
   "metadata": {},
   "outputs": [
    {
     "data": {
      "text/plain": [
       "532"
      ]
     },
     "execution_count": 7,
     "metadata": {},
     "output_type": "execute_result"
    }
   ],
   "source": [
    "# Are there residue pairs where only one of the residues is in a receptor but never both residues of the pair are in a receptor?\n",
    "InteractingResiduePair.objects.filter(\n",
    "    Q(res1__in=prot_residues) | Q(res2__in=prot_residues)\n",
    ").exclude(\n",
    "    Q(res1__in=prot_residues) & Q(res2__in=prot_residues)\n",
    ").count()"
   ]
  },
  {
   "cell_type": "code",
   "execution_count": 8,
   "metadata": {},
   "outputs": [
    {
     "name": "stdout",
     "output_type": "stream",
     "text": [
      "4672\n"
     ]
    },
    {
     "data": {
      "text/plain": [
       "532"
      ]
     },
     "execution_count": 8,
     "metadata": {},
     "output_type": "execute_result"
    }
   ],
   "source": [
    "# correct receptor entry names - the ones with '_a' appended\n",
    "complex_objs = SignprotComplex.objects.prefetch_related('structure__protein_conformation__protein').all()\n",
    "complex_names = [complex_obj.structure.protein_conformation.protein.entry_name + '_' + complex_obj.alpha.lower() for complex_obj in complex_objs]\n",
    "# protein conformations for those\n",
    "prot_conf = ProteinConformation.objects.filter(protein__entry_name__in=complex_names).values_list('id', flat=True)\n",
    "\n",
    "# getting all the receptor residues for those protein conformations\n",
    "prot_residues = Residue.objects.filter(\n",
    "    protein_conformation__in=prot_conf\n",
    ").values_list('id', flat=True)\n",
    "\n",
    "# how many receptor residues do I have\n",
    "print(prot_residues.count())\n",
    "\n",
    "# Any of these residues a member in any interacting residue pair, either as residue1 or as residue2?\n",
    "InteractingResiduePair.objects.filter(\n",
    "    Q(res1__in=prot_residues) | Q(res2__in=prot_residues)\n",
    ").count()"
   ]
  },
  {
   "cell_type": "code",
   "execution_count": 9,
   "metadata": {},
   "outputs": [
    {
     "data": {
      "text/plain": [
       "532"
      ]
     },
     "execution_count": 9,
     "metadata": {},
     "output_type": "execute_result"
    }
   ],
   "source": [
    "# How about this question again, but this time for the 'correct' proteins?\n",
    "# Are there residue pairs where only one of the residues is in a receptor but never both residues of the pair are in a receptor?\n",
    "InteractingResiduePair.objects.filter(\n",
    "    Q(res1__in=prot_residues) | Q(res2__in=prot_residues)\n",
    ").exclude(\n",
    "    Q(res1__in=prot_residues) & Q(res2__in=prot_residues)\n",
    ").count()"
   ]
  },
  {
   "cell_type": "code",
   "execution_count": 10,
   "metadata": {},
   "outputs": [
    {
     "data": {
      "text/plain": [
       "23"
      ]
     },
     "execution_count": 10,
     "metadata": {},
     "output_type": "execute_result"
    }
   ],
   "source": [
    "complex_objs.count()"
   ]
  },
  {
   "cell_type": "code",
   "execution_count": 11,
   "metadata": {},
   "outputs": [
    {
     "data": {
      "text/plain": [
       "23"
      ]
     },
     "execution_count": 11,
     "metadata": {},
     "output_type": "execute_result"
    }
   ],
   "source": [
    "len(complex_names)"
   ]
  },
  {
   "cell_type": "code",
   "execution_count": 12,
   "metadata": {},
   "outputs": [
    {
     "data": {
      "text/plain": [
       "20"
      ]
     },
     "execution_count": 12,
     "metadata": {},
     "output_type": "execute_result"
    }
   ],
   "source": [
    "prot_conf.count()"
   ]
  },
  {
   "cell_type": "code",
   "execution_count": 13,
   "metadata": {},
   "outputs": [],
   "source": [
    "def sort_a_by_b(a, b, remove_invalid=False):\n",
    "    '''Sort one list based on the order of elements from another list'''\n",
    "    # https://stackoverflow.com/q/12814667    \n",
    "    # a = ['alpha_mock', 'van-der-waals', 'ionic']\n",
    "    # b = ['ionic', 'aromatic', 'hydrophobic', 'polar', 'van-der-waals', 'alpha_mock']\n",
    "    # sort_a_by_b(a,b) -> ['ionic', 'van-der-waals', 'alpha_mock']\n",
    "    if remove_invalid:\n",
    "        a = [a_elem for a_elem in a if a_elem in b]\n",
    "    return sorted(a, key=lambda x: b.index(x))"
   ]
  },
  {
   "cell_type": "code",
   "execution_count": 14,
   "metadata": {},
   "outputs": [
    {
     "data": {
      "text/plain": [
       "<QuerySet [{'int_ty': ['hydrophobic', 'hydrophobic']}, {'int_ty': ['hydrophobic', 'hydrophobic']}, {'int_ty': ['hydrophobic', 'hydrophobic']}, {'int_ty': ['hydrophobic', 'hydrophobic']}, {'int_ty': ['aromatic', 'aromatic', 'hydrophobic', 'hydrophobic', 'hydrophobic', 'hydrophobic', 'hydrophobic', 'hydrophobic', 'hydrophobic', 'hydrophobic', 'hydrophobic', 'hydrophobic', 'van-der-waals', 'van-der-waals', 'van-der-waals']}, {'int_ty': ['van-der-waals', 'hydrophobic', 'van-der-waals', 'van-der-waals', 'aromatic', 'hydrophobic', 'hydrophobic', 'hydrophobic', 'hydrophobic', 'hydrophobic', 'hydrophobic', 'hydrophobic', 'hydrophobic', 'hydrophobic', 'aromatic']}, {'int_ty': ['hydrophobic', 'aromatic', 'hydrophobic', 'hydrophobic', 'hydrophobic', 'hydrophobic', 'hydrophobic', 'aromatic', 'hydrophobic', 'hydrophobic', 'hydrophobic', 'hydrophobic']}, {'int_ty': ['hydrophobic']}, {'int_ty': ['van-der-waals', 'hydrophobic', 'hydrophobic', 'aromatic', 'aromatic', 'hydrophobic', 'hydrophobic', 'van-der-waals', 'hydrophobic', 'hydrophobic', 'hydrophobic', 'hydrophobic', 'hydrophobic', 'hydrophobic']}, {'int_ty': ['aromatic', 'hydrophobic', 'hydrophobic', 'hydrophobic', 'hydrophobic', 'hydrophobic', 'hydrophobic', 'hydrophobic', 'hydrophobic', 'van-der-waals', 'van-der-waals', 'van-der-waals', 'hydrophobic', 'aromatic']}, {'int_ty': ['aromatic', 'aromatic']}, {'int_ty': ['hydrophobic', 'hydrophobic', 'hydrophobic', 'hydrophobic', 'hydrophobic', 'hydrophobic', 'van-der-waals', 'hydrophobic', 'aromatic', 'hydrophobic', 'aromatic', 'hydrophobic', 'hydrophobic']}, {'int_ty': ['hydrophobic', 'hydrophobic', 'hydrophobic', 'hydrophobic', 'hydrophobic', 'hydrophobic', 'van-der-waals', 'aromatic', 'hydrophobic', 'van-der-waals', 'hydrophobic', 'van-der-waals', 'aromatic', 'hydrophobic']}, {'int_ty': ['aromatic', 'aromatic', 'hydrophobic', 'hydrophobic', 'hydrophobic', 'hydrophobic']}, {'int_ty': ['van-der-waals', 'hydrophobic']}, {'int_ty': ['hydrophobic', 'van-der-waals']}, {'int_ty': ['hydrophobic', 'hydrophobic', 'hydrophobic', 'hydrophobic']}, {'int_ty': ['hydrophobic', 'hydrophobic']}, {'int_ty': ['hydrophobic', 'van-der-waals', 'van-der-waals']}, {'int_ty': ['hydrophobic', 'van-der-waals', 'hydrophobic']}, '...(remaining elements truncated)...']>"
      ]
     },
     "execution_count": 14,
     "metadata": {},
     "output_type": "execute_result"
    }
   ],
   "source": [
    "InteractingResiduePair.objects.order_by('res1__display_generic_number__label', 'res2__display_generic_number__label').values(int_ty=ArrayAgg('interaction__interaction_type'))"
   ]
  },
  {
   "cell_type": "code",
   "execution_count": 15,
   "metadata": {},
   "outputs": [],
   "source": [
    "def interface_dataset():\n",
    "    # correct receptor entry names - the ones with '_a' appended\n",
    "    complex_objs = SignprotComplex.objects.prefetch_related('structure__protein_conformation__protein')\n",
    "    complex_names = [complex_obj.structure.protein_conformation.protein.entry_name + '_' + complex_obj.alpha.lower() for complex_obj in complex_objs]\n",
    "    complex_struc_ids = [co.structure_id for co in complex_objs]\n",
    "    # protein conformations for those\n",
    "    prot_conf = ProteinConformation.objects.filter(protein__entry_name__in=complex_names).values_list('id', flat=True)\n",
    "\n",
    "    interaction_sort_order = [\n",
    "        \"ionic\",\n",
    "        \"aromatic\",\n",
    "        \"hydrophobic\",\n",
    "        \"polar\",\n",
    "        \"van-der-waals\",    \n",
    "    ]\n",
    "\n",
    "    # getting all the signal protein residues for those protein conformations\n",
    "    prot_residues = Residue.objects.filter(\n",
    "        protein_conformation__in=prot_conf\n",
    "    ).values_list('id', flat=True)\n",
    "\n",
    "    interactions = InteractingResiduePair.objects.filter(\n",
    "        Q(res1__in=prot_residues) | Q(res2__in=prot_residues),\n",
    "        referenced_structure__in=complex_struc_ids\n",
    "    ).exclude(\n",
    "        Q(res1__in=prot_residues) & Q(res2__in=prot_residues)\n",
    "    ).prefetch_related(\n",
    "        'interaction__interaction_type',\n",
    "        'referenced_structure__pdb_code__index',\n",
    "        'referenced_structure__signprot_complex__protein__entry_name',\n",
    "        'referenced_structure__protein_conformation__protein__parent__entry_name',\n",
    "        'res1__amino_acid',\n",
    "        'res1__sequence_number',\n",
    "        'res1__generic_number__label',\n",
    "        'res2__amino_acid',\n",
    "        'res2__sequence_number',\n",
    "        'res2__generic_number__label',\n",
    "    ).order_by(\n",
    "        'res1__generic_number__label',\n",
    "        'res2__generic_number__label'\n",
    "    ).values(\n",
    "        int_id=F('id'),\n",
    "        int_ty=ArrayAgg(\n",
    "            'interaction__interaction_type',\n",
    "            distinct=True,\n",
    "#             ordering=interaction_sort_order\n",
    "        ),\n",
    "\n",
    "        pdb_id=F('referenced_structure__pdb_code__index'),\n",
    "        conf_id=F('referenced_structure__protein_conformation_id'),\n",
    "        gprot=F('referenced_structure__signprot_complex__protein__entry_name'),\n",
    "        entry_name=F('referenced_structure__protein_conformation__protein__parent__entry_name'),\n",
    "\n",
    "        rec_aa=F('res1__amino_acid'),\n",
    "        rec_pos=F('res1__sequence_number'),\n",
    "        rec_gn=F('res1__generic_number__label'),\n",
    "\n",
    "        sig_aa=F('res2__amino_acid'),\n",
    "        sig_pos=F('res2__sequence_number'),\n",
    "        sig_gn=F('res2__display_generic_number__label')\n",
    "    )\n",
    "\n",
    "    conf_ids = set()\n",
    "    for i in interactions:\n",
    "            i['int_ty'] = sort_a_by_b(i['int_ty'], interaction_sort_order)\n",
    "            conf_ids.update([i['conf_id']])\n",
    "\n",
    "    return list(conf_ids), list(interactions)"
   ]
  },
  {
   "cell_type": "code",
   "execution_count": 16,
   "metadata": {},
   "outputs": [],
   "source": [
    "conf_ids, interactions = interface_dataset()"
   ]
  },
  {
   "cell_type": "code",
   "execution_count": 17,
   "metadata": {},
   "outputs": [
    {
     "data": {
      "text/plain": [
       "{'conf_id': 20804,\n",
       " 'entry_name': 'ntr1_human',\n",
       " 'gprot': 'gnai1_human',\n",
       " 'int_id': 143537,\n",
       " 'int_ty': ['hydrophobic', 'van-der-waals'],\n",
       " 'pdb_id': '6OSA',\n",
       " 'rec_aa': 'Q',\n",
       " 'rec_gn': '2x36',\n",
       " 'rec_pos': 98,\n",
       " 'sig_aa': 'D',\n",
       " 'sig_gn': 'G.H5.22',\n",
       " 'sig_pos': 350}"
      ]
     },
     "execution_count": 17,
     "metadata": {},
     "output_type": "execute_result"
    }
   ],
   "source": [
    "interactions[0]"
   ]
  },
  {
   "cell_type": "code",
   "execution_count": 18,
   "metadata": {},
   "outputs": [
    {
     "name": "stdout",
     "output_type": "stream",
     "text": [
      "178 ms ± 4.62 ms per loop (mean ± std. dev. of 7 runs, 1 loop each)\n"
     ]
    }
   ],
   "source": [
    "%%timeit\n",
    "interface_dataset()"
   ]
  },
  {
   "cell_type": "code",
   "execution_count": 19,
   "metadata": {},
   "outputs": [
    {
     "name": "stdout",
     "output_type": "stream",
     "text": [
      "292 µs ± 71.4 µs per loop (mean ± std. dev. of 7 runs, 1000 loops each)\n"
     ]
    }
   ],
   "source": [
    "%%timeit\n",
    "gprotein_order = ProteinSegment.objects.filter(proteinfamily='Alpha').values('id', 'slug')"
   ]
  },
  {
   "cell_type": "code",
   "execution_count": 20,
   "metadata": {},
   "outputs": [
    {
     "name": "stdout",
     "output_type": "stream",
     "text": [
      "208 ms ± 33.8 ms per loop (mean ± std. dev. of 7 runs, 1 loop each)\n"
     ]
    }
   ],
   "source": [
    "%%timeit\n",
    "struc = SignprotComplex.objects.prefetch_related(\n",
    "  'structure__stabilizing_agents',\n",
    "    'structure__pdb_code',\n",
    "    'structure__protein_conformation__protein__species',\n",
    ").select_related(\n",
    "    'structure__protein_conformation__protein__parent__parent__parent',\n",
    "    'structure__signprot_complex__protein__family__parent__parent__parent__parent',\n",
    ")\n",
    "complex_info = []\n",
    "for s in struc:\n",
    "    r = {}\n",
    "    s = s.structure\n",
    "    r['pdb_id'] = s.pdb_code.index\n",
    "    r['name'] = s.protein_conformation.protein.parent.short()\n",
    "    r['entry_name'] = s.protein_conformation.protein.parent.entry_name\n",
    "    r['class'] = s.protein_conformation.protein.get_protein_class()\n",
    "    r['family'] = s.protein_conformation.protein.get_protein_family()\n",
    "    r['conf_id'] = s.protein_conformation.id\n",
    "    r['organism'] = s.protein_conformation.protein.species.common_name\n",
    "    try:\n",
    "        r['gprot'] = s.get_stab_agents_gproteins()\n",
    "    except Exception:\n",
    "        r['gprot'] = ''\n",
    "    try:\n",
    "        r['gprot_class'] = s.get_signprot_gprot_family()\n",
    "    except Exception:\n",
    "        r['gprot_class'] = ''\n",
    "    complex_info.append(r)"
   ]
  },
  {
   "cell_type": "code",
   "execution_count": 21,
   "metadata": {},
   "outputs": [
    {
     "name": "stdout",
     "output_type": "stream",
     "text": [
      "1.37 ms ± 32.3 µs per loop (mean ± std. dev. of 7 runs, 1000 loops each)\n"
     ]
    }
   ],
   "source": [
    "%%timeit\n",
    "remaining_residues = Residue.objects.filter(\n",
    "        protein_conformation_id__in=conf_ids,\n",
    "        ).prefetch_related(\n",
    "            \"protein_conformation\",\n",
    "            \"protein_conformation__protein\",\n",
    "            \"protein_conformation__structure\",\n",
    "            \"protein_conformation__protein__parent\",\n",
    "            \"protein_conformation__structure__pdb_code\",\n",
    "        ).values(\n",
    "            rec_id = F('protein_conformation__protein__id'),\n",
    "            name = F('protein_conformation__protein__parent__name'),\n",
    "            entry_name = F('protein_conformation__protein__parent__entry_name'),\n",
    "            pdb_id = F('protein_conformation__structure__pdb_code__index'),\n",
    "            rec_aa = F('amino_acid'),\n",
    "            rec_gn = F('display_generic_number__label'),\n",
    "        ).exclude(\n",
    "            Q(rec_gn=None)\n",
    "        )"
   ]
  },
  {
   "cell_type": "code",
   "execution_count": 22,
   "metadata": {},
   "outputs": [],
   "source": [
    "for i in interactions:\n",
    "    if i['pdb_id'] == '5G53':\n",
    "        print(i)"
   ]
  },
  {
   "cell_type": "code",
   "execution_count": 23,
   "metadata": {},
   "outputs": [],
   "source": [
    "pdb_list = ['5G53','6GDG','6FUF']\n",
    "complex_objs = SignprotComplex.objects.filter(structure__pdb_code__index__in=pdb_list)\n",
    "complex_names = [complex_obj.structure.protein_conformation.protein.entry_name + '_' + complex_obj.alpha.lower() for complex_obj in complex_objs]\n",
    "prot_conf = ProteinConformation.objects.filter(protein__entry_name__in=complex_names).values_list('id', flat=True)"
   ]
  },
  {
   "cell_type": "code",
   "execution_count": 24,
   "metadata": {},
   "outputs": [
    {
     "data": {
      "text/plain": [
       "['6gdg_d', '6fuf_b', '5g53_c']"
      ]
     },
     "execution_count": 24,
     "metadata": {},
     "output_type": "execute_result"
    }
   ],
   "source": [
    "complex_names"
   ]
  },
  {
   "cell_type": "code",
   "execution_count": 25,
   "metadata": {},
   "outputs": [
    {
     "data": {
      "text/plain": [
       "<QuerySet [(6,), (20,), (1,)]>"
      ]
     },
     "execution_count": 25,
     "metadata": {},
     "output_type": "execute_result"
    }
   ],
   "source": [
    "complex_objs.values_list('id')"
   ]
  },
  {
   "cell_type": "code",
   "execution_count": null,
   "metadata": {},
   "outputs": [],
   "source": []
  }
 ],
 "metadata": {
  "kernelspec": {
   "display_name": "Python 3",
   "language": "python",
   "name": "python3"
  },
  "language_info": {
   "codemirror_mode": {
    "name": "ipython",
    "version": 3
   },
   "file_extension": ".py",
   "mimetype": "text/x-python",
   "name": "python",
   "nbconvert_exporter": "python",
   "pygments_lexer": "ipython3",
   "version": "3.4.3"
  }
 },
 "nbformat": 4,
 "nbformat_minor": 2
}
